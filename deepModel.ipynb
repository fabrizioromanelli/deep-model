{
 "cells": [
  {
   "cell_type": "code",
   "execution_count": 1,
   "metadata": {},
   "outputs": [
    {
     "name": "stderr",
     "output_type": "stream",
     "text": [
      "2023-10-10 10:34:56.147165: I tensorflow/core/platform/cpu_feature_guard.cc:193] This TensorFlow binary is optimized with oneAPI Deep Neural Network Library (oneDNN) to use the following CPU instructions in performance-critical operations:  AVX2 AVX_VNNI FMA\n",
      "To enable them in other operations, rebuild TensorFlow with the appropriate compiler flags.\n",
      "2023-10-10 10:34:56.235355: I tensorflow/core/util/port.cc:104] oneDNN custom operations are on. You may see slightly different numerical results due to floating-point round-off errors from different computation orders. To turn them off, set the environment variable `TF_ENABLE_ONEDNN_OPTS=0`.\n",
      "2023-10-10 10:34:58.017035: I tensorflow/compiler/xla/stream_executor/cuda/cuda_gpu_executor.cc:967] could not open file to read NUMA node: /sys/bus/pci/devices/0000:01:00.0/numa_node\n",
      "Your kernel may have been built without NUMA support.\n",
      "2023-10-10 10:34:58.021303: I tensorflow/compiler/xla/stream_executor/cuda/cuda_gpu_executor.cc:967] could not open file to read NUMA node: /sys/bus/pci/devices/0000:01:00.0/numa_node\n",
      "Your kernel may have been built without NUMA support.\n",
      "2023-10-10 10:34:58.021441: I tensorflow/compiler/xla/stream_executor/cuda/cuda_gpu_executor.cc:967] could not open file to read NUMA node: /sys/bus/pci/devices/0000:01:00.0/numa_node\n",
      "Your kernel may have been built without NUMA support.\n",
      "2023-10-10 10:34:58.605375: I tensorflow/compiler/xla/stream_executor/cuda/cuda_gpu_executor.cc:967] could not open file to read NUMA node: /sys/bus/pci/devices/0000:01:00.0/numa_node\n",
      "Your kernel may have been built without NUMA support.\n",
      "2023-10-10 10:34:58.605483: I tensorflow/compiler/xla/stream_executor/cuda/cuda_gpu_executor.cc:967] could not open file to read NUMA node: /sys/bus/pci/devices/0000:01:00.0/numa_node\n",
      "Your kernel may have been built without NUMA support.\n",
      "2023-10-10 10:34:58.605489: I tensorflow/core/common_runtime/gpu/gpu_device.cc:1700] Could not identify NUMA node of platform GPU id 0, defaulting to 0.  Your kernel may not have been built with NUMA support.\n",
      "2023-10-10 10:34:58.605511: I tensorflow/compiler/xla/stream_executor/cuda/cuda_gpu_executor.cc:967] could not open file to read NUMA node: /sys/bus/pci/devices/0000:01:00.0/numa_node\n",
      "Your kernel may have been built without NUMA support.\n",
      "2023-10-10 10:34:58.605543: I tensorflow/core/common_runtime/gpu/gpu_device.cc:1613] Created device /job:localhost/replica:0/task:0/device:GPU:0 with 1585 MB memory:  -> device: 0, name: NVIDIA GeForce RTX 3050 Ti Laptop GPU, pci bus id: 0000:01:00.0, compute capability: 8.6\n"
     ]
    }
   ],
   "source": [
    "# Jupyter notebook for testing deepModel library\n",
    "# author: Fabrizio Romanelli\n",
    "# email : fabrizio.romanelli@gmail.com\n",
    "# date  : 04/10/2023\n",
    "\n",
    "# Import the deepModel library\n",
    "import deepModel as dm\n",
    "\n",
    "# Initialize the environment\n",
    "dm.initialize(CPU=20, GPU=1, VERBOSE='2', NPARRAYS=True)"
   ]
  },
  {
   "cell_type": "code",
   "execution_count": 2,
   "metadata": {},
   "outputs": [
    {
     "name": "stderr",
     "output_type": "stream",
     "text": [
      "2023-10-10 10:34:58.625385: I tensorflow/compiler/xla/stream_executor/cuda/cuda_gpu_executor.cc:967] could not open file to read NUMA node: /sys/bus/pci/devices/0000:01:00.0/numa_node\n",
      "Your kernel may have been built without NUMA support.\n",
      "2023-10-10 10:34:58.625487: I tensorflow/compiler/xla/stream_executor/cuda/cuda_gpu_executor.cc:967] could not open file to read NUMA node: /sys/bus/pci/devices/0000:01:00.0/numa_node\n",
      "Your kernel may have been built without NUMA support.\n",
      "2023-10-10 10:34:58.625503: I tensorflow/compiler/xla/stream_executor/cuda/cuda_gpu_executor.cc:967] could not open file to read NUMA node: /sys/bus/pci/devices/0000:01:00.0/numa_node\n",
      "Your kernel may have been built without NUMA support.\n",
      "2023-10-10 10:34:58.625695: I tensorflow/compiler/xla/stream_executor/cuda/cuda_gpu_executor.cc:967] could not open file to read NUMA node: /sys/bus/pci/devices/0000:01:00.0/numa_node\n",
      "Your kernel may have been built without NUMA support.\n",
      "2023-10-10 10:34:58.625712: I tensorflow/compiler/xla/stream_executor/cuda/cuda_gpu_executor.cc:967] could not open file to read NUMA node: /sys/bus/pci/devices/0000:01:00.0/numa_node\n",
      "Your kernel may have been built without NUMA support.\n",
      "2023-10-10 10:34:58.625725: I tensorflow/compiler/xla/stream_executor/cuda/cuda_gpu_executor.cc:967] could not open file to read NUMA node: /sys/bus/pci/devices/0000:01:00.0/numa_node\n",
      "Your kernel may have been built without NUMA support.\n",
      "2023-10-10 10:34:58.626096: I tensorflow/compiler/xla/stream_executor/cuda/cuda_gpu_executor.cc:967] could not open file to read NUMA node: /sys/bus/pci/devices/0000:01:00.0/numa_node\n",
      "Your kernel may have been built without NUMA support.\n",
      "2023-10-10 10:34:58.626107: I tensorflow/core/common_runtime/gpu/gpu_device.cc:1700] Could not identify NUMA node of platform GPU id 0, defaulting to 0.  Your kernel may not have been built with NUMA support.\n",
      "2023-10-10 10:34:58.626127: I tensorflow/compiler/xla/stream_executor/cuda/cuda_gpu_executor.cc:967] could not open file to read NUMA node: /sys/bus/pci/devices/0000:01:00.0/numa_node\n",
      "Your kernel may have been built without NUMA support.\n",
      "2023-10-10 10:34:58.626142: I tensorflow/core/common_runtime/gpu/gpu_device.cc:1613] Created device /job:localhost/replica:0/task:0/device:GPU:0 with 1585 MB memory:  -> device: 0, name: NVIDIA GeForce RTX 3050 Ti Laptop GPU, pci bus id: 0000:01:00.0, compute capability: 8.6\n"
     ]
    },
    {
     "name": "stdout",
     "output_type": "stream",
     "text": [
      "[DM] Building model...\n",
      "[DM] Model built!\n",
      "Epoch 1/50\n"
     ]
    },
    {
     "name": "stderr",
     "output_type": "stream",
     "text": [
      "2023-10-10 10:35:00.496019: I tensorflow/compiler/xla/stream_executor/cuda/cuda_blas.cc:630] TensorFloat-32 will be used for the matrix multiplication. This will only be logged once.\n"
     ]
    },
    {
     "name": "stdout",
     "output_type": "stream",
     "text": [
      "1/1 [==============================] - 3s 3s/step - loss: 32.6453\n",
      "Epoch 2/50\n",
      "1/1 [==============================] - 0s 8ms/step - loss: 27.1064\n",
      "Epoch 3/50\n",
      "1/1 [==============================] - 0s 10ms/step - loss: 22.0358\n",
      "Epoch 4/50\n",
      "1/1 [==============================] - 0s 7ms/step - loss: 17.3620\n",
      "Epoch 5/50\n",
      "1/1 [==============================] - 0s 8ms/step - loss: 13.1391\n",
      "Epoch 6/50\n",
      "1/1 [==============================] - 0s 12ms/step - loss: 9.4620\n",
      "Epoch 7/50\n",
      "1/1 [==============================] - 0s 8ms/step - loss: 6.4265\n",
      "Epoch 8/50\n",
      "1/1 [==============================] - 0s 10ms/step - loss: 4.1445\n",
      "Epoch 9/50\n",
      "1/1 [==============================] - 0s 11ms/step - loss: 2.7262\n",
      "Epoch 10/50\n",
      "1/1 [==============================] - 0s 8ms/step - loss: 2.2260\n",
      "Epoch 11/50\n",
      "1/1 [==============================] - 0s 11ms/step - loss: 2.5636\n",
      "Epoch 12/50\n",
      "1/1 [==============================] - 0s 10ms/step - loss: 3.4339\n",
      "Epoch 13/50\n",
      "1/1 [==============================] - 0s 9ms/step - loss: 4.3401\n",
      "Epoch 14/50\n",
      "1/1 [==============================] - 0s 8ms/step - loss: 4.8685\n",
      "Epoch 15/50\n",
      "1/1 [==============================] - 0s 11ms/step - loss: 4.8908\n",
      "Epoch 16/50\n",
      "1/1 [==============================] - 0s 7ms/step - loss: 4.5070\n",
      "Epoch 17/50\n",
      "1/1 [==============================] - 0s 9ms/step - loss: 3.9091\n",
      "Epoch 18/50\n",
      "1/1 [==============================] - 0s 10ms/step - loss: 3.2848\n",
      "Epoch 19/50\n",
      "1/1 [==============================] - 0s 9ms/step - loss: 2.7707\n",
      "Epoch 20/50\n",
      "1/1 [==============================] - 0s 8ms/step - loss: 2.4386\n",
      "Epoch 21/50\n",
      "1/1 [==============================] - 0s 10ms/step - loss: 2.3003\n",
      "Epoch 22/50\n",
      "1/1 [==============================] - 0s 7ms/step - loss: 2.3232\n",
      "Epoch 23/50\n",
      "1/1 [==============================] - 0s 10ms/step - loss: 2.4504\n",
      "Epoch 24/50\n",
      "1/1 [==============================] - 0s 10ms/step - loss: 2.6189\n",
      "Epoch 25/50\n",
      "1/1 [==============================] - 0s 7ms/step - loss: 2.7734\n",
      "Epoch 26/50\n",
      "1/1 [==============================] - 0s 10ms/step - loss: 2.8755\n",
      "Epoch 27/50\n",
      "1/1 [==============================] - 0s 14ms/step - loss: 2.9059\n",
      "Epoch 28/50\n",
      "1/1 [==============================] - 0s 9ms/step - loss: 2.8633\n",
      "Epoch 29/50\n",
      "1/1 [==============================] - 0s 11ms/step - loss: 2.7600\n",
      "Epoch 30/50\n",
      "1/1 [==============================] - 0s 9ms/step - loss: 2.6170\n",
      "Epoch 31/50\n",
      "1/1 [==============================] - 0s 12ms/step - loss: 2.4587\n",
      "Epoch 32/50\n",
      "1/1 [==============================] - 0s 8ms/step - loss: 2.3089\n",
      "Epoch 33/50\n",
      "1/1 [==============================] - 0s 11ms/step - loss: 2.1863\n",
      "Epoch 34/50\n",
      "1/1 [==============================] - 0s 10ms/step - loss: 2.1023\n",
      "Epoch 35/50\n",
      "1/1 [==============================] - 0s 13ms/step - loss: 2.0592\n",
      "Epoch 36/50\n",
      "1/1 [==============================] - 0s 9ms/step - loss: 2.0501\n",
      "Epoch 37/50\n",
      "1/1 [==============================] - 0s 8ms/step - loss: 2.0611\n",
      "Epoch 38/50\n",
      "1/1 [==============================] - 0s 9ms/step - loss: 2.0751\n",
      "Epoch 39/50\n",
      "1/1 [==============================] - 0s 8ms/step - loss: 2.0759\n",
      "Epoch 40/50\n",
      "1/1 [==============================] - 0s 9ms/step - loss: 2.0527\n",
      "Epoch 41/50\n",
      "1/1 [==============================] - 0s 9ms/step - loss: 2.0022\n",
      "Epoch 42/50\n",
      "1/1 [==============================] - 0s 9ms/step - loss: 1.9288\n",
      "Epoch 43/50\n",
      "1/1 [==============================] - 0s 8ms/step - loss: 1.8425\n",
      "Epoch 44/50\n",
      "1/1 [==============================] - 0s 10ms/step - loss: 1.7552\n",
      "Epoch 45/50\n",
      "1/1 [==============================] - 0s 8ms/step - loss: 1.6773\n",
      "Epoch 46/50\n",
      "1/1 [==============================] - 0s 8ms/step - loss: 1.6153\n",
      "Epoch 47/50\n",
      "1/1 [==============================] - 0s 11ms/step - loss: 1.5700\n",
      "Epoch 48/50\n",
      "1/1 [==============================] - 0s 9ms/step - loss: 1.5371\n",
      "Epoch 49/50\n",
      "1/1 [==============================] - 0s 10ms/step - loss: 1.5086\n",
      "Epoch 50/50\n",
      "1/1 [==============================] - 0s 10ms/step - loss: 1.4754\n"
     ]
    }
   ],
   "source": [
    "# Multivariate DNN dev test\n",
    "\n",
    "import tensorflow as tf\n",
    "from keras import backend as K\n",
    "from keras.losses import MeanSquaredError\n",
    "\n",
    "def mse_pearson_loss(y_true, y_pred):\n",
    "  x = y_true\n",
    "  y = y_pred\n",
    "  mx = K.mean(x)\n",
    "  my = K.mean(y)\n",
    "  xm, ym = x-mx, y-my\n",
    "  r_num = K.sum(tf.multiply(xm,ym))\n",
    "  r_den = K.sqrt(tf.multiply(K.sum(K.square(xm)), K.sum(K.square(ym))))\n",
    "  r = r_num / r_den\n",
    "  r = K.maximum(K.minimum(r, 1.0), -1.0)\n",
    "  r = K.square(r)\n",
    "  mse = MeanSquaredError()\n",
    "  return 1 - r + mse(y_true, y_pred)\n",
    "\n",
    "mDnn = dm.multivariateDNN(name=\"multivariate DNN test\", inputN=2)\n",
    "mDnn.setInputs([{'shape': (2,), 'name': 'gino'}, {'shape': (2,), 'name': 'pino'}])\n",
    "\n",
    "innerLayers = [[{'units': 16, 'activation': 'elu'}, {'units': 16, 'activation': 'elu'}, {'units': 16, 'activation': 'elu'}, {'units': 3, 'activation': 'linear'}]]\n",
    "innerLayers.append([{'units': 16, 'activation': 'elu'}, {'units': 16, 'activation': 'elu'}, {'units': 16, 'activation': 'elu'}, {'units': 3, 'activation': 'linear'}])\n",
    "innerLayers.append([{'units': 16, 'activation': 'elu'}, {'units': 16, 'activation': 'elu'}, {'units': 16, 'activation': 'elu'}, {'units': 3, 'activation': 'linear'}])\n",
    "\n",
    "mDnn.setLayers(innerLayers)\n",
    "\n",
    "outputLayers = [{'units': 32, 'activation': 'elu'}, {'units': 64, 'activation': 'elu'}, {'units': 128, 'activation': 'elu'}, {'units': 64, 'activation': 'elu'}, {'units': 32, 'activation': 'elu'}, {'units': 1, 'activation': 'linear'}]\n",
    "\n",
    "mDnn.setOutLayers(outputLayers)\n",
    "mDnn.setModelConfiguration(optimizer='adam', loss='mse')\n",
    "# mDnn.setModelConfiguration(optimizer='adam', loss=mse_pearson_loss)\n",
    "\n",
    "mDnn.build()\n",
    "# mDnn.summary()\n",
    "\n",
    "import numpy as np\n",
    "\n",
    "x1 = np.array([0.2,0.3,0.5,0.6,0.7])\n",
    "x2 = np.array([1.1,1.2,1.4,1.5,1.6])\n",
    "X1 = np.array([x1,x2]).T\n",
    "x3 = np.array([0.2,0.3,0.5,0.6,0.7])\n",
    "x4 = np.array([1.1,1.2,1.4,1.5,1.6])\n",
    "X2 = np.array([x3,x4]).T\n",
    "y  = np.array([3.0,4.0,6.0,7.0,8.0])\n",
    "\n",
    "mDnn.fit(x=[X1,X2], y=y, epochs=50, shuffle=True, verbose=1)"
   ]
  },
  {
   "cell_type": "code",
   "execution_count": 3,
   "metadata": {},
   "outputs": [
    {
     "name": "stdout",
     "output_type": "stream",
     "text": [
      "[[8.210758]]\n"
     ]
    }
   ],
   "source": [
    "x1 = np.array([2.4])\n",
    "x2 = np.array([3.3])\n",
    "X1 = np.array([x1,x2]).T\n",
    "x3 = np.array([2.4])\n",
    "x4 = np.array([3.3])\n",
    "X2 = np.array([x3,x4]).T\n",
    "y = mDnn.predict([X1,X2])\n",
    "print(y.numpy())"
   ]
  },
  {
   "cell_type": "code",
   "execution_count": 4,
   "metadata": {},
   "outputs": [
    {
     "name": "stdout",
     "output_type": "stream",
     "text": [
      "[DM] Saving model...\n",
      "[DM] Model saved!\n"
     ]
    }
   ],
   "source": [
    "mDnn.save('test',tflite=False)"
   ]
  },
  {
   "cell_type": "code",
   "execution_count": 5,
   "metadata": {},
   "outputs": [
    {
     "name": "stdout",
     "output_type": "stream",
     "text": [
      "[DM] Loading model...\n",
      "[DM] Loaded!\n"
     ]
    }
   ],
   "source": [
    "mDnn2 = dm.multivariateDNN(name=\"multivariate DNN test 2\",inputN=2)\n",
    "mDnn2.load(\"test\")"
   ]
  },
  {
   "cell_type": "code",
   "execution_count": 7,
   "metadata": {},
   "outputs": [
    {
     "name": "stdout",
     "output_type": "stream",
     "text": [
      "[[8.210758]]\n"
     ]
    }
   ],
   "source": [
    "x1 = np.array([2.4])\n",
    "x2 = np.array([3.3])\n",
    "X1 = np.array([x1,x2]).T\n",
    "x3 = np.array([2.4])\n",
    "x4 = np.array([3.3])\n",
    "X2 = np.array([x3,x4]).T\n",
    "y = mDnn2.predict(x=[X1,X2])\n",
    "print(y.numpy())"
   ]
  }
 ],
 "metadata": {
  "kernelspec": {
   "display_name": "Python 3",
   "language": "python",
   "name": "python3"
  },
  "language_info": {
   "codemirror_mode": {
    "name": "ipython",
    "version": 3
   },
   "file_extension": ".py",
   "mimetype": "text/x-python",
   "name": "python",
   "nbconvert_exporter": "python",
   "pygments_lexer": "ipython3",
   "version": "3.10.12"
  },
  "orig_nbformat": 4,
  "vscode": {
   "interpreter": {
    "hash": "50ca6beb359c45098690b56dc2734b3d52d066029652770f8ebff3a62c9c1e26"
   }
  }
 },
 "nbformat": 4,
 "nbformat_minor": 2
}
