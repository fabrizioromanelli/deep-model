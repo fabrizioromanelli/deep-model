{
 "cells": [
  {
   "cell_type": "code",
   "execution_count": null,
   "metadata": {},
   "outputs": [],
   "source": [
    "# Jupyter notebook for testing deepModel library\n",
    "# author: Fabrizio Romanelli\n",
    "# email : fabrizio.romanelli@gmail.com\n",
    "# date  : 04/10/2023\n",
    "\n",
    "# Import the deepModel library\n",
    "import deepModel as dm\n",
    "\n",
    "# Initialize the environment\n",
    "dm.initialize(CPU=20, GPU=1, VERBOSE='2', NPARRAYS=True)"
   ]
  },
  {
   "cell_type": "code",
   "execution_count": null,
   "metadata": {},
   "outputs": [],
   "source": [
    "# Multivariate DNN dev test\n",
    "mDnn = dm.multivariateDNN(layers=3, name=\"multivariate DNN test\", inputN=2)\n",
    "# mDnn.setInputArgs([{'shape': (3,), 'name': 'gino'}, {'shape': (3,), 'name': 'pino'}, {'shape': (1,), 'name': 'lino'}])\n",
    "mDnn.setInputArgs([{'shape': (3,), 'name': 'gino'}, {'shape': (3,), 'name': 'pino'}])\n",
    "\n",
    "innerLayers = [[{'units': 16, 'activation': 'elu'}, {'units': 16, 'activation': 'elu'}, {'units': 16, 'activation': 'elu'}, {'units': 3, 'activation': 'linear'}]]\n",
    "innerLayers.append([{'units': 16, 'activation': 'elu'}, {'units': 16, 'activation': 'elu'}, {'units': 16, 'activation': 'elu'}, {'units': 3, 'activation': 'linear'}])\n",
    "innerLayers.append([{'units': 16, 'activation': 'elu'}, {'units': 16, 'activation': 'elu'}, {'units': 16, 'activation': 'elu'}, {'units': 3, 'activation': 'linear'}])\n",
    "\n",
    "mDnn.setLayersArgs(innerLayers)\n",
    "\n",
    "mDnn.build()"
   ]
  },
  {
   "cell_type": "code",
   "execution_count": null,
   "metadata": {},
   "outputs": [],
   "source": [
    "cnn = dm.CNN(2,'test')\n",
    "cnn.getModel()\n",
    "cnn.summary()\n",
    "\n",
    "# # Make an instance of the RNN\n",
    "# _RNN = dm.RNN(_layers=3,_name=\"test 1\")\n",
    "\n",
    "# print(_RNN.getLayers())\n",
    "# print(_RNN.getName())\n",
    "\n",
    "# # Make an instance of the CNN\n",
    "# _CNN = dm.CNN(_layers=13,_name=\"test 2\")\n",
    "\n",
    "# print(_CNN.getLayers())\n",
    "# print(_CNN.getName())"
   ]
  }
 ],
 "metadata": {
  "kernelspec": {
   "display_name": "Python 3",
   "language": "python",
   "name": "python3"
  },
  "language_info": {
   "codemirror_mode": {
    "name": "ipython",
    "version": 3
   },
   "file_extension": ".py",
   "mimetype": "text/x-python",
   "name": "python",
   "nbconvert_exporter": "python",
   "pygments_lexer": "ipython3",
   "version": "3.10.12"
  },
  "orig_nbformat": 4,
  "vscode": {
   "interpreter": {
    "hash": "50ca6beb359c45098690b56dc2734b3d52d066029652770f8ebff3a62c9c1e26"
   }
  }
 },
 "nbformat": 4,
 "nbformat_minor": 2
}
