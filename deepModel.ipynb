{
 "cells": [
  {
   "cell_type": "code",
   "execution_count": null,
   "metadata": {},
   "outputs": [],
   "source": [
    "# Jupyter notebook for testing deepModel library\n",
    "# author: Fabrizio Romanelli\n",
    "# email : fabrizio.romanelli@gmail.com\n",
    "# date  : 04/10/2023\n",
    "\n",
    "# Import the deepModel library\n",
    "import deepModel as dm\n",
    "\n",
    "# Initialize the environment\n",
    "dm.initialize(CPU=20, GPU=1, VERBOSE='2', NPARRAYS=True)"
   ]
  },
  {
   "cell_type": "code",
   "execution_count": null,
   "metadata": {},
   "outputs": [],
   "source": [
    "# Multivariate DNN dev test\n",
    "\n",
    "import tensorflow as tf\n",
    "from keras import backend as K\n",
    "from keras.losses import MeanSquaredError\n",
    "\n",
    "def mse_pearson_loss(y_true, y_pred):\n",
    "  x = y_true\n",
    "  y = y_pred\n",
    "  mx = K.mean(x)\n",
    "  my = K.mean(y)\n",
    "  xm, ym = x-mx, y-my\n",
    "  r_num = K.sum(tf.multiply(xm,ym))\n",
    "  r_den = K.sqrt(tf.multiply(K.sum(K.square(xm)), K.sum(K.square(ym))))\n",
    "  r = r_num / r_den\n",
    "  r = K.maximum(K.minimum(r, 1.0), -1.0)\n",
    "  r = K.square(r)\n",
    "  mse = MeanSquaredError()\n",
    "  return 1 - r + mse(y_true, y_pred)\n",
    "\n",
    "mDnn = dm.multivariateDNN(name=\"multivariate DNN test\", inputN=2)\n",
    "mDnn.setInputs([{'shape': (2,), 'name': 'gino'}, {'shape': (2,), 'name': 'pino'}])\n",
    "\n",
    "innerLayers = [[{'units': 16, 'activation': 'elu'}, {'units': 16, 'activation': 'elu'}, {'units': 16, 'activation': 'elu'}, {'units': 3, 'activation': 'linear'}]]\n",
    "innerLayers.append([{'units': 16, 'activation': 'elu'}, {'units': 16, 'activation': 'elu'}, {'units': 16, 'activation': 'elu'}, {'units': 3, 'activation': 'linear'}])\n",
    "innerLayers.append([{'units': 16, 'activation': 'elu'}, {'units': 16, 'activation': 'elu'}, {'units': 16, 'activation': 'elu'}, {'units': 3, 'activation': 'linear'}])\n",
    "\n",
    "mDnn.setLayers(innerLayers)\n",
    "\n",
    "outputLayers = [{'units': 32, 'activation': 'elu'}, {'units': 64, 'activation': 'elu'}, {'units': 128, 'activation': 'elu'}, {'units': 64, 'activation': 'elu'}, {'units': 32, 'activation': 'elu'}, {'units': 1, 'activation': 'linear'}]\n",
    "\n",
    "mDnn.setOutLayers(outputLayers)\n",
    "mDnn.setModelConfiguration(optimizer='adam', loss='mse')\n",
    "# mDnn.setModelConfiguration(optimizer='adam', loss=mse_pearson_loss)\n",
    "\n",
    "mDnn.build()\n",
    "# mDnn.summary()\n",
    "\n",
    "import numpy as np\n",
    "\n",
    "x1 = np.array([0.2,0.3,0.5,0.6,0.7])\n",
    "x2 = np.array([1.1,1.2,1.4,1.5,1.6])\n",
    "X1 = np.array([x1,x2]).T\n",
    "x3 = np.array([0.2,0.3,0.5,0.6,0.7])\n",
    "x4 = np.array([1.1,1.2,1.4,1.5,1.6])\n",
    "X2 = np.array([x3,x4]).T\n",
    "y  = np.array([3.0,4.0,6.0,7.0,8.0])\n",
    "\n",
    "mDnn.fit(x=[X1,X2], y=y, epochs=50, shuffle=True, verbose=1)"
   ]
  },
  {
   "cell_type": "code",
   "execution_count": null,
   "metadata": {},
   "outputs": [],
   "source": [
    "x1 = np.array([2.4])\n",
    "x2 = np.array([3.3])\n",
    "X1 = np.array([x1,x2]).T\n",
    "x3 = np.array([2.4])\n",
    "x4 = np.array([3.3])\n",
    "X2 = np.array([x3,x4]).T\n",
    "y = mDnn.predict(x=[X1,X2])\n",
    "print(y)"
   ]
  },
  {
   "cell_type": "code",
   "execution_count": null,
   "metadata": {},
   "outputs": [],
   "source": [
    "mDnn.save('test',tflite=False)"
   ]
  },
  {
   "cell_type": "code",
   "execution_count": null,
   "metadata": {},
   "outputs": [],
   "source": [
    "mDnn2 = dm.multivariateDNN(name=\"multivariate DNN test 2\",inputN=2)\n",
    "mDnn2.load(\"test\")"
   ]
  },
  {
   "cell_type": "code",
   "execution_count": null,
   "metadata": {},
   "outputs": [],
   "source": [
    "x1 = np.array([2.4])\n",
    "x2 = np.array([3.3])\n",
    "X1 = np.array([x1,x2]).T\n",
    "x3 = np.array([2.4])\n",
    "x4 = np.array([3.3])\n",
    "X2 = np.array([x3,x4]).T\n",
    "y = mDnn2.predict(x=[X1,X2])\n",
    "print(y)"
   ]
  }
 ],
 "metadata": {
  "kernelspec": {
   "display_name": "Python 3",
   "language": "python",
   "name": "python3"
  },
  "language_info": {
   "codemirror_mode": {
    "name": "ipython",
    "version": 3
   },
   "file_extension": ".py",
   "mimetype": "text/x-python",
   "name": "python",
   "nbconvert_exporter": "python",
   "pygments_lexer": "ipython3",
   "version": "3.10.12"
  },
  "orig_nbformat": 4,
  "vscode": {
   "interpreter": {
    "hash": "50ca6beb359c45098690b56dc2734b3d52d066029652770f8ebff3a62c9c1e26"
   }
  }
 },
 "nbformat": 4,
 "nbformat_minor": 2
}
