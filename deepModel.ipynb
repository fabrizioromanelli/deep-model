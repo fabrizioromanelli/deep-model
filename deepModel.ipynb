{
 "cells": [
  {
   "cell_type": "code",
   "execution_count": 1,
   "metadata": {},
   "outputs": [
    {
     "name": "stderr",
     "output_type": "stream",
     "text": [
      "2023-10-09 17:11:36.032335: I tensorflow/core/platform/cpu_feature_guard.cc:193] This TensorFlow binary is optimized with oneAPI Deep Neural Network Library (oneDNN) to use the following CPU instructions in performance-critical operations:  AVX2 AVX_VNNI FMA\n",
      "To enable them in other operations, rebuild TensorFlow with the appropriate compiler flags.\n",
      "2023-10-09 17:11:36.142581: I tensorflow/core/util/port.cc:104] oneDNN custom operations are on. You may see slightly different numerical results due to floating-point round-off errors from different computation orders. To turn them off, set the environment variable `TF_ENABLE_ONEDNN_OPTS=0`.\n",
      "2023-10-09 17:11:37.839136: I tensorflow/compiler/xla/stream_executor/cuda/cuda_gpu_executor.cc:967] could not open file to read NUMA node: /sys/bus/pci/devices/0000:01:00.0/numa_node\n",
      "Your kernel may have been built without NUMA support.\n",
      "2023-10-09 17:11:37.843036: I tensorflow/compiler/xla/stream_executor/cuda/cuda_gpu_executor.cc:967] could not open file to read NUMA node: /sys/bus/pci/devices/0000:01:00.0/numa_node\n",
      "Your kernel may have been built without NUMA support.\n",
      "2023-10-09 17:11:37.843107: I tensorflow/compiler/xla/stream_executor/cuda/cuda_gpu_executor.cc:967] could not open file to read NUMA node: /sys/bus/pci/devices/0000:01:00.0/numa_node\n",
      "Your kernel may have been built without NUMA support.\n",
      "2023-10-09 17:11:38.399259: I tensorflow/compiler/xla/stream_executor/cuda/cuda_gpu_executor.cc:967] could not open file to read NUMA node: /sys/bus/pci/devices/0000:01:00.0/numa_node\n",
      "Your kernel may have been built without NUMA support.\n",
      "2023-10-09 17:11:38.399462: I tensorflow/compiler/xla/stream_executor/cuda/cuda_gpu_executor.cc:967] could not open file to read NUMA node: /sys/bus/pci/devices/0000:01:00.0/numa_node\n",
      "Your kernel may have been built without NUMA support.\n",
      "2023-10-09 17:11:38.399484: I tensorflow/core/common_runtime/gpu/gpu_device.cc:1700] Could not identify NUMA node of platform GPU id 0, defaulting to 0.  Your kernel may not have been built with NUMA support.\n",
      "2023-10-09 17:11:38.399523: I tensorflow/compiler/xla/stream_executor/cuda/cuda_gpu_executor.cc:967] could not open file to read NUMA node: /sys/bus/pci/devices/0000:01:00.0/numa_node\n",
      "Your kernel may have been built without NUMA support.\n",
      "2023-10-09 17:11:38.399584: I tensorflow/core/common_runtime/gpu/gpu_device.cc:1613] Created device /job:localhost/replica:0/task:0/device:GPU:0 with 1585 MB memory:  -> device: 0, name: NVIDIA GeForce RTX 3050 Ti Laptop GPU, pci bus id: 0000:01:00.0, compute capability: 8.6\n"
     ]
    }
   ],
   "source": [
    "# Jupyter notebook for testing deepModel library\n",
    "# author: Fabrizio Romanelli\n",
    "# email : fabrizio.romanelli@gmail.com\n",
    "# date  : 04/10/2023\n",
    "\n",
    "# Import the deepModel library\n",
    "import deepModel as dm\n",
    "\n",
    "# Initialize the environment\n",
    "dm.initialize(CPU=20, GPU=1, VERBOSE='2', NPARRAYS=True)"
   ]
  },
  {
   "cell_type": "code",
   "execution_count": 3,
   "metadata": {},
   "outputs": [
    {
     "name": "stdout",
     "output_type": "stream",
     "text": [
      "[DM] Building model...\n",
      "[DM] Model built!\n"
     ]
    },
    {
     "ename": "TypeError",
     "evalue": "DNN.fit() takes 1 positional argument but 3 were given",
     "output_type": "error",
     "traceback": [
      "\u001b[0;31m---------------------------------------------------------------------------\u001b[0m",
      "\u001b[0;31mTypeError\u001b[0m                                 Traceback (most recent call last)",
      "\u001b[1;32m/home/tantrizio/workspace/deep-model/deepModel.ipynb Cell 2\u001b[0m line \u001b[0;36m2\n\u001b[1;32m     <a href='vscode-notebook-cell://wsl%2Bubuntu-22.04/home/tantrizio/workspace/deep-model/deepModel.ipynb#W1sdnNjb2RlLXJlbW90ZQ%3D%3D?line=25'>26</a>\u001b[0m X2 \u001b[39m=\u001b[39m np\u001b[39m.\u001b[39marray([x3,x4])\u001b[39m.\u001b[39mT\n\u001b[1;32m     <a href='vscode-notebook-cell://wsl%2Bubuntu-22.04/home/tantrizio/workspace/deep-model/deepModel.ipynb#W1sdnNjb2RlLXJlbW90ZQ%3D%3D?line=26'>27</a>\u001b[0m y  \u001b[39m=\u001b[39m np\u001b[39m.\u001b[39marray([\u001b[39m0\u001b[39m,\u001b[39m1\u001b[39m,\u001b[39m0\u001b[39m,\u001b[39m1\u001b[39m,\u001b[39m0\u001b[39m,\u001b[39m1\u001b[39m])\n\u001b[0;32m---> <a href='vscode-notebook-cell://wsl%2Bubuntu-22.04/home/tantrizio/workspace/deep-model/deepModel.ipynb#W1sdnNjb2RlLXJlbW90ZQ%3D%3D?line=28'>29</a>\u001b[0m mDnn\u001b[39m.\u001b[39;49mfit([X1,X2], y, epochs\u001b[39m=\u001b[39;49m\u001b[39m20\u001b[39;49m, shuffle\u001b[39m=\u001b[39;49m\u001b[39mTrue\u001b[39;49;00m, verbose\u001b[39m=\u001b[39;49m\u001b[39m1\u001b[39;49m)\n",
      "\u001b[0;31mTypeError\u001b[0m: DNN.fit() takes 1 positional argument but 3 were given"
     ]
    }
   ],
   "source": [
    "# Multivariate DNN dev test\n",
    "mDnn = dm.multivariateDNN(name=\"multivariate DNN test\", inputN=2)\n",
    "mDnn.setInputs([{'shape': (2,), 'name': 'gino'}, {'shape': (2,), 'name': 'pino'}])\n",
    "\n",
    "innerLayers = [[{'units': 16, 'activation': 'elu'}, {'units': 16, 'activation': 'elu'}, {'units': 16, 'activation': 'elu'}, {'units': 3, 'activation': 'linear'}]]\n",
    "innerLayers.append([{'units': 16, 'activation': 'elu'}, {'units': 16, 'activation': 'elu'}, {'units': 16, 'activation': 'elu'}, {'units': 3, 'activation': 'linear'}])\n",
    "innerLayers.append([{'units': 16, 'activation': 'elu'}, {'units': 16, 'activation': 'elu'}, {'units': 16, 'activation': 'elu'}, {'units': 3, 'activation': 'linear'}])\n",
    "\n",
    "mDnn.setLayers(innerLayers)\n",
    "\n",
    "outputLayers = [{'units': 32, 'activation': 'elu'}, {'units': 64, 'activation': 'elu'}, {'units': 128, 'activation': 'elu'}, {'units': 64, 'activation': 'elu'}, {'units': 32, 'activation': 'elu'}, {'units': 1, 'activation': 'linear'}]\n",
    "\n",
    "mDnn.setOutLayers(outputLayers)\n",
    "mDnn.setModelConfiguration(optimizer='adam', loss='mse')\n",
    "\n",
    "mDnn.build()\n",
    "# mDnn.summary()\n",
    "\n",
    "import numpy as np\n",
    "\n",
    "x1 = np.array([0,0,0,0,0,0])\n",
    "x2 = np.array([1,1,1,1,1,1])\n",
    "X1 = np.array([x1,x2]).T\n",
    "x3 = np.array([0,0,0,0,0,0])\n",
    "x4 = np.array([1,1,1,1,1,1])\n",
    "X2 = np.array([x3,x4]).T\n",
    "y  = np.array([0,1,0,1,0,1])\n",
    "\n",
    "mDnn.fit(x=[X1,X2], y=y, epochs=20, shuffle=True, verbose=1)"
   ]
  },
  {
   "cell_type": "code",
   "execution_count": null,
   "metadata": {},
   "outputs": [],
   "source": [
    "cnn = dm.CNN(2,'test')\n",
    "cnn.getModel()\n",
    "cnn.summary()\n",
    "\n",
    "# # Make an instance of the RNN\n",
    "# _RNN = dm.RNN(_layers=3,_name=\"test 1\")\n",
    "\n",
    "# print(_RNN.getLayers())\n",
    "# print(_RNN.getName())\n",
    "\n",
    "# # Make an instance of the CNN\n",
    "# _CNN = dm.CNN(_layers=13,_name=\"test 2\")\n",
    "\n",
    "# print(_CNN.getLayers())\n",
    "# print(_CNN.getName())"
   ]
  }
 ],
 "metadata": {
  "kernelspec": {
   "display_name": "Python 3",
   "language": "python",
   "name": "python3"
  },
  "language_info": {
   "codemirror_mode": {
    "name": "ipython",
    "version": 3
   },
   "file_extension": ".py",
   "mimetype": "text/x-python",
   "name": "python",
   "nbconvert_exporter": "python",
   "pygments_lexer": "ipython3",
   "version": "3.10.12"
  },
  "orig_nbformat": 4,
  "vscode": {
   "interpreter": {
    "hash": "50ca6beb359c45098690b56dc2734b3d52d066029652770f8ebff3a62c9c1e26"
   }
  }
 },
 "nbformat": 4,
 "nbformat_minor": 2
}
